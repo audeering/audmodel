{
 "cells": [
  {
   "cell_type": "markdown",
   "metadata": {
    "slideshow": {
     "slide_type": "skip"
    }
   },
   "source": [
    "# Tutorial"
   ]
  },
  {
   "cell_type": "markdown",
   "metadata": {
    "slideshow": {
     "slide_type": "skip"
    }
   },
   "source": [
    "## Before we start"
   ]
  },
  {
   "cell_type": "markdown",
   "metadata": {
    "slideshow": {
     "slide_type": "skip"
    }
   },
   "source": [
    "Please make sure you have created a file `~/.artifactory_python.cfg`:\n",
    "\n",
    "``` cfg\n",
    "[artifactory.audeering.com/artifactory]\n",
    "username = MY_USERNAME\n",
    "password = MY_API_KEY\n",
    "```"
   ]
  },
  {
   "cell_type": "markdown",
   "metadata": {
    "hide_input": true,
    "slideshow": {
     "slide_type": "slide"
    }
   },
   "source": [
    "## Introduction"
   ]
  },
  {
   "cell_type": "markdown",
   "metadata": {
    "slideshow": {
     "slide_type": "subslide"
    }
   },
   "source": [
    "* We want to **publish** models on [Artifactory](https://artifactory.audeering.com)\n",
    "* We want to **load** models from [Artifactory](https://artifactory.audeering.com)\n",
    "* We want to tag models with **properties** (e.g. the sampling rate it was trained on)"
   ]
  },
  {
   "cell_type": "markdown",
   "metadata": {
    "slideshow": {
     "slide_type": "subslide"
    }
   },
   "source": [
    "The only assumption we currently make is that a model consists of one or more files that are stored in some folder on your local disk, e.g:\n",
    "\n",
    "```\n",
    "|-- <root>/\n",
    "    |-- file.yaml\n",
    "    |-- file.txt\n",
    "    |-- bin/\n",
    "        |-- another-file.pkl     \n",
    "```"
   ]
  },
  {
   "cell_type": "markdown",
   "metadata": {},
   "source": [
    "In addition a (possibly empty) dictionary holding the properties needs to be passed, e.g.:\n",
    "\n",
    "``` python\n",
    "params = {\n",
    "    'task': 'anger,\n",
    "    'rate': 8000,\n",
    "}\n",
    "```"
   ]
  },
  {
   "cell_type": "markdown",
   "metadata": {
    "slideshow": {
     "slide_type": "subslide"
    }
   },
   "source": [
    "If we now publish the model (e.g. as version `1.0.0`), the following will happen:\n",
    "\n",
    "1. A random `<id>` is created.\n",
    "2. The model folder is zipped and published as artifact `<id>-<version>.zip`.\n",
    "3. A row is added to the lookup table with `<id>` as index and `params` as values.\n",
    "\n",
    "And if we later download the model:\n",
    "\n",
    "1. The `<id>` for the requested `params` is resolved from the lookup table\n",
    "2. The artifact `<id>-<version>.zip` is downloaded\n",
    "3. The archive is unpacked to the local model cache folder\n"
   ]
  },
  {
   "cell_type": "markdown",
   "metadata": {
    "slideshow": {
     "slide_type": "subslide"
    }
   },
   "source": [
    "![workflow](pics/workflow.dot.svg)"
   ]
  },
  {
   "cell_type": "markdown",
   "metadata": {
    "slideshow": {
     "slide_type": "slide"
    }
   },
   "source": [
    "## Usage"
   ]
  },
  {
   "cell_type": "markdown",
   "metadata": {},
   "source": [
    "Some includes and helper functions and we're ready to go..."
   ]
  },
  {
   "cell_type": "code",
   "execution_count": null,
   "metadata": {},
   "outputs": [],
   "source": [
    "import os\n",
    "import shutil\n",
    "import glob\n",
    "import uuid\n",
    "import audeer\n",
    "import audfactory\n",
    "import audmodel\n",
    "\n",
    "# create a unique group id to not interrupt\n",
    "# if another notebook is running in parallel\n",
    "audmodel.config.GROUP_ID += '.audmodel.' + str(uuid.uuid1())\n",
    "\n",
    "def create_model(name, files):\n",
    "    root = os.path.join(os.getcwd(), 'models', name)\n",
    "    audeer.mkdir(root)\n",
    "    for file in files:\n",
    "        path = os.path.join(root, file)\n",
    "        audeer.mkdir(os.path.dirname(path))\n",
    "        with open(path, 'w'):\n",
    "            pass\n",
    "    return root\n",
    "\n",
    "def show_model(path):\n",
    "    path = audeer.safe_path(path)\n",
    "    for root, dirs, files in os.walk(path):\n",
    "        level = root.replace(path, '').count(os.sep)\n",
    "        indent = ' ' * 4 * (level)\n",
    "        print('{}{}/'.format(indent, os.path.basename(root)))\n",
    "        subindent = ' ' * 4 * (level + 1)\n",
    "        for f in files:\n",
    "            print('{}{}'.format(subindent, f))"
   ]
  },
  {
   "cell_type": "markdown",
   "metadata": {
    "slideshow": {
     "slide_type": "slide"
    }
   },
   "source": [
    "### Publish a model"
   ]
  },
  {
   "cell_type": "markdown",
   "metadata": {
    "slideshow": {
     "slide_type": "subslide"
    }
   },
   "source": [
    "Let's create a test model first (some empty files will do)..."
   ]
  },
  {
   "cell_type": "code",
   "execution_count": null,
   "metadata": {},
   "outputs": [],
   "source": [
    "files = ['meta.yaml', 'network.txt', 'bin/mlp-weights.pkl']\n",
    "root_mlp = create_model('mymodel-mlp', files)\n",
    "show_model(root_mlp)"
   ]
  },
  {
   "cell_type": "markdown",
   "metadata": {
    "slideshow": {
     "slide_type": "subslide"
    }
   },
   "source": [
    "And define the properties..."
   ]
  },
  {
   "cell_type": "code",
   "execution_count": null,
   "metadata": {},
   "outputs": [],
   "source": [
    "params_mlp = {\n",
    "    'task': 'anger',\n",
    "    'sampling_rate': 16000,\n",
    "    'network': 'mlp',\n",
    "}"
   ]
  },
  {
   "cell_type": "markdown",
   "metadata": {
    "slideshow": {
     "slide_type": "subslide"
    }
   },
   "source": [
    "Ready to release `1.0.0`? Let's go..."
   ]
  },
  {
   "cell_type": "code",
   "execution_count": null,
   "metadata": {},
   "outputs": [],
   "source": [
    "uid = audmodel.publish(\n",
    "    root=root_mlp, \n",
    "    name='mymodel',\n",
    "    params=params_mlp, \n",
    "    version='1.0.0',\n",
    ")\n",
    "uid"
   ]
  },
  {
   "cell_type": "markdown",
   "metadata": {
    "slideshow": {
     "slide_type": "subslide"
    }
   },
   "source": [
    "If the operation was successful, we get the model's unique id. We can use it to check that actually two artifacts were created - a csv file containing the lookup table and a zip file containing our model..."
   ]
  },
  {
   "cell_type": "code",
   "execution_count": null,
   "metadata": {},
   "outputs": [],
   "source": [
    "url = audmodel.get_model_url(\n",
    "    name='mymodel',\n",
    "    uid=uid,\n",
    ")\n",
    "path = audfactory.artifactory_path(url).parent.parent.parent\n",
    "for p in path.glob(\"**/*\"):\n",
    "    if p.is_file():\n",
    "        print(p)"
   ]
  },
  {
   "cell_type": "markdown",
   "metadata": {
    "slideshow": {
     "slide_type": "subslide"
    }
   },
   "source": [
    "**Important**: There is only one lookup table per version that supports exactly one set of parameters, e.g. the following will not work..."
   ]
  },
  {
   "cell_type": "code",
   "execution_count": null,
   "metadata": {},
   "outputs": [],
   "source": [
    "try:\n",
    "    audmodel.publish(\n",
    "        root=root_mlp, \n",
    "        name='mymodel',\n",
    "        params={\n",
    "            'same': 'version',\n",
    "            'different': 'parameters',\n",
    "        },\n",
    "        version='1.0.0',\n",
    "    )\n",
    "except RuntimeError as ex:\n",
    "    print(ex)"
   ]
  },
  {
   "cell_type": "markdown",
   "metadata": {
    "slideshow": {
     "slide_type": "slide"
    }
   },
   "source": [
    "### Load a model"
   ]
  },
  {
   "cell_type": "markdown",
   "metadata": {
    "slideshow": {
     "slide_type": "subslide"
    }
   },
   "source": [
    "Loading the model is just as simple..."
   ]
  },
  {
   "cell_type": "code",
   "execution_count": null,
   "metadata": {},
   "outputs": [],
   "source": [
    "root = audmodel.load(\n",
    "    name='mymodel',\n",
    "    params=params_mlp,\n",
    "    version='1.0.0',    \n",
    ")\n",
    "root"
   ]
  },
  {
   "cell_type": "markdown",
   "metadata": {
    "slideshow": {
     "slide_type": "subslide"
    }
   },
   "source": [
    "On success we get the root folder where the model was unpacked. By default, models are unpacked to the default model cache directory, which can be checked by..."
   ]
  },
  {
   "cell_type": "code",
   "execution_count": null,
   "metadata": {},
   "outputs": [],
   "source": [
    "audmodel.get_default_cache_root()"
   ]
  },
  {
   "cell_type": "markdown",
   "metadata": {},
   "source": [
    "Note that the default cache location (`~/audmodel`) can be overwritten by the system variable `AUDMODEL_CACHE_ROOT`. Or individually by calling `load()` with a non empty `root` argument. Within the cache the model is placed in a unique sub-folder, namely `<name>/<version>/<uid>`. As the name *cache* implies, a model is only downloaded if it does not yet exists in the cache (unless you call `load` with `force=True`)."
   ]
  },
  {
   "cell_type": "markdown",
   "metadata": {
    "slideshow": {
     "slide_type": "subslide"
    }
   },
   "source": [
    "Now, let's check if everything worked out as expected..."
   ]
  },
  {
   "cell_type": "code",
   "execution_count": null,
   "metadata": {},
   "outputs": [],
   "source": [
    "show_model(root)"
   ]
  },
  {
   "cell_type": "markdown",
   "metadata": {
    "slideshow": {
     "slide_type": "slide"
    }
   },
   "source": [
    "### Another flavor"
   ]
  },
  {
   "cell_type": "markdown",
   "metadata": {
    "slideshow": {
     "slide_type": "subslide"
    }
   },
   "source": [
    "Let's assume that your first approach using a standard *MLP* network wasn't very successful. Hence you decide to train another model using *LSTMs*. Since it's using the same training data, you don't want to publish a new version, but rather another *flavor* of the model. Hopefully, now you will know what properties are good for..."
   ]
  },
  {
   "cell_type": "code",
   "execution_count": null,
   "metadata": {},
   "outputs": [],
   "source": [
    "files = ['meta.yaml', 'network.txt', 'bin/lstm-weights.pkl']\n",
    "root_lstm = create_model('mymodel-lstm', files)\n",
    "params_lstm = {\n",
    "    'task': 'anger',\n",
    "    'sampling_rate': 16000,\n",
    "    'network': 'lstm',\n",
    "}\n",
    "uid = audmodel.publish(\n",
    "    root=root_lstm, \n",
    "    name='mymodel',\n",
    "    params=params_lstm, \n",
    "    version='1.0.0',\n",
    ")\n",
    "uid"
   ]
  },
  {
   "cell_type": "markdown",
   "metadata": {
    "slideshow": {
     "slide_type": "subslide"
    }
   },
   "source": [
    "Already losing track what models you have uploaded so far? The lookup table will tell you the truth..."
   ]
  },
  {
   "cell_type": "code",
   "execution_count": null,
   "metadata": {
    "slideshow": {
     "slide_type": "-"
    }
   },
   "outputs": [],
   "source": [
    "df = audmodel.get_lookup_table(\n",
    "    name='mymodel',\n",
    "    version='1.0.0',\n",
    ")\n",
    "df"
   ]
  },
  {
   "cell_type": "markdown",
   "metadata": {
    "slideshow": {
     "slide_type": "subslide"
    }
   },
   "source": [
    "The lookup table is returned as a [pandas.Dataframe](https://pandas.pydata.org/pandas-docs/stable/reference/api/pandas.DataFrame.html) and lists model flavors with their ids. If only interested in the model id, you can also do..."
   ]
  },
  {
   "cell_type": "code",
   "execution_count": null,
   "metadata": {},
   "outputs": [],
   "source": [
    "uid = audmodel.get_model_id(\n",
    "    name='mymodel', \n",
    "    params=params_lstm,\n",
    "    version='1.0.0')\n",
    "uid"
   ]
  },
  {
   "cell_type": "markdown",
   "metadata": {
    "slideshow": {
     "slide_type": "subslide"
    }
   },
   "source": [
    "Which offers another way to load a model..."
   ]
  },
  {
   "cell_type": "code",
   "execution_count": null,
   "metadata": {},
   "outputs": [],
   "source": [
    "root = audmodel.load_by_id(\n",
    "    name='mymodel',\n",
    "    uid=uid)\n",
    "show_model(root)"
   ]
  },
  {
   "cell_type": "markdown",
   "metadata": {
    "slideshow": {
     "slide_type": "slide"
    }
   },
   "source": [
    "### More parameters"
   ]
  },
  {
   "cell_type": "markdown",
   "metadata": {
    "slideshow": {
     "slide_type": "subslide"
    }
   },
   "source": [
    "After doing some analysis, you find out the model will improve if you normalize the audio data during training and add a little bit of white noise. You therefore introduce a new parameter `normalize`, which is either `True` or `False`, and `noise_db`, which defines the decibel level at which noise is added (or `None` to omit)..."
   ]
  },
  {
   "cell_type": "code",
   "execution_count": null,
   "metadata": {
    "slideshow": {
     "slide_type": "-"
    }
   },
   "outputs": [],
   "source": [
    "df = audmodel.extend_params(\n",
    "    name='mymodel',\n",
    "    version='1.0.0',\n",
    "    new_params={\n",
    "        'normalize': False,\n",
    "        'noise_db': None,\n",
    "    }\n",
    ")\n",
    "df"
   ]
  },
  {
   "cell_type": "markdown",
   "metadata": {
    "slideshow": {
     "slide_type": "subslide"
    }
   },
   "source": [
    "We see that the table now holds two additional columns. For the old models the new parameters are automatically set to the default values. We can now add a new model trained on normalized audio with some noise..."
   ]
  },
  {
   "cell_type": "code",
   "execution_count": null,
   "metadata": {
    "slideshow": {
     "slide_type": "-"
    }
   },
   "outputs": [],
   "source": [
    "params_lstm = {\n",
    "    'task': 'anger',\n",
    "    'sampling_rate': 16000,\n",
    "    'network': 'lstm',\n",
    "    'normalize': True,\n",
    "    'noise_db': -10.0,\n",
    "}\n",
    "audmodel.publish(\n",
    "    root=root_lstm, \n",
    "    name='mymodel',\n",
    "    params=params_lstm, \n",
    "    version='1.0.0',\n",
    ")\n",
    "df = audmodel.get_lookup_table(\n",
    "    name='mymodel',\n",
    "    version='1.0.0',\n",
    ")\n",
    "df"
   ]
  },
  {
   "cell_type": "markdown",
   "metadata": {
    "slideshow": {
     "slide_type": "slide"
    }
   },
   "source": [
    "### A new version"
   ]
  },
  {
   "cell_type": "markdown",
   "metadata": {
    "slideshow": {
     "slide_type": "subslide"
    }
   },
   "source": [
    "Since the *LSTM* network gives promising result, you decide to retrain with more data and publish version `2.0.0`..."
   ]
  },
  {
   "cell_type": "code",
   "execution_count": null,
   "metadata": {},
   "outputs": [],
   "source": [
    "# do retraining\n",
    "uid = audmodel.publish(\n",
    "    root=root_lstm, \n",
    "    name='mymodel',\n",
    "    params=params_lstm, \n",
    "    version='2.0.0',\n",
    ")\n",
    "uid"
   ]
  },
  {
   "cell_type": "markdown",
   "metadata": {
    "slideshow": {
     "slide_type": "subslide"
    }
   },
   "source": [
    "To load the model you can either explicitly ask for version `2.0.0` or just get the latest model..."
   ]
  },
  {
   "cell_type": "code",
   "execution_count": null,
   "metadata": {},
   "outputs": [],
   "source": [
    "root = audmodel.load(\n",
    "    name='mymodel',\n",
    "    params=params_lstm,\n",
    "    version=None,  # load latest version, i.e. 2.0.0\n",
    ")\n",
    "root"
   ]
  },
  {
   "cell_type": "markdown",
   "metadata": {
    "slideshow": {
     "slide_type": "subslide"
    }
   },
   "source": [
    "This will also work for the old *MLP* model, as it will automatically get the latest version that matches the properties, which is still `1.0.0`..."
   ]
  },
  {
   "cell_type": "code",
   "execution_count": null,
   "metadata": {},
   "outputs": [],
   "source": [
    "params_mlp['normalize'] = False\n",
    "params_mlp['noise_db'] = None\n",
    "root = audmodel.load(\n",
    "    name='mymodel',\n",
    "    params=params_mlp,\n",
    "    version=None,  # load latest version, i.e. 1.0.0\n",
    ")\n",
    "root"
   ]
  },
  {
   "cell_type": "markdown",
   "metadata": {},
   "source": [
    "### Clean up"
   ]
  },
  {
   "cell_type": "markdown",
   "metadata": {},
   "source": [
    "Finally, clean up local files and Artifactory..."
   ]
  },
  {
   "cell_type": "code",
   "execution_count": null,
   "metadata": {},
   "outputs": [],
   "source": [
    "def cleanup():\n",
    "    root = os.path.join(os.getcwd(), 'models')\n",
    "    if os.path.exists(root):\n",
    "        shutil.rmtree(root)\n",
    "    path = audfactory.artifactory_path(\n",
    "        audfactory.server_url(audmodel.config.GROUP_ID,\n",
    "                              name='mymodel',\n",
    "                              repository='models-public-local')).parent\n",
    "    if path.exists():\n",
    "        path.rmdir()\n",
    "    \n",
    "cleanup()"
   ]
  }
 ],
 "metadata": {
  "celltoolbar": "Slideshow",
  "kernelspec": {
   "display_name": "Python 3",
   "language": "python",
   "name": "python3"
  },
  "language_info": {
   "codemirror_mode": {
    "name": "ipython",
    "version": 3
   },
   "file_extension": ".py",
   "mimetype": "text/x-python",
   "name": "python",
   "nbconvert_exporter": "python",
   "pygments_lexer": "ipython3",
   "version": "3.6.9"
  },
  "toc": {
   "base_numbering": 1,
   "nav_menu": {
    "height": "201px",
    "width": "195px"
   },
   "number_sections": true,
   "sideBar": true,
   "skip_h1_title": false,
   "title_cell": "Table of Contents",
   "title_sidebar": "Contents",
   "toc_cell": false,
   "toc_position": {
    "height": "calc(100% - 180px)",
    "left": "10px",
    "top": "150px",
    "width": "247.05px"
   },
   "toc_section_display": true,
   "toc_window_display": true
  }
 },
 "nbformat": 4,
 "nbformat_minor": 2
}
